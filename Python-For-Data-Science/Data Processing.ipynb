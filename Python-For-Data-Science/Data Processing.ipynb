{
 "cells": [
  {
   "cell_type": "markdown",
   "metadata": {},
   "source": [
    "# Data Processing\n",
    "\n",
    "* Importing Python library\n",
    "* Reading Data\n",
    "* Missing Data\n",
    "* Deal with Categorical Data\n",
    "* Splitting Data\n",
    "* Normalize Data"
   ]
  },
  {
   "cell_type": "markdown",
   "metadata": {},
   "source": [
    "## Import Python Library and Read Data"
   ]
  },
  {
   "cell_type": "code",
   "execution_count": 223,
   "metadata": {},
   "outputs": [],
   "source": [
    "import numpy as np\n",
    "import pandas as pd\n",
    "from sklearn.preprocessing import Imputer, LabelEncoder, OneHotEncoder, StandardScaler\n",
    "from sklearn.model_selection import train_test_split"
   ]
  },
  {
   "cell_type": "code",
   "execution_count": 2,
   "metadata": {},
   "outputs": [],
   "source": [
    "data = pd.read_csv('Data.csv')"
   ]
  },
  {
   "cell_type": "code",
   "execution_count": 3,
   "metadata": {},
   "outputs": [
    {
     "data": {
      "text/html": [
       "<div>\n",
       "<style scoped>\n",
       "    .dataframe tbody tr th:only-of-type {\n",
       "        vertical-align: middle;\n",
       "    }\n",
       "\n",
       "    .dataframe tbody tr th {\n",
       "        vertical-align: top;\n",
       "    }\n",
       "\n",
       "    .dataframe thead th {\n",
       "        text-align: right;\n",
       "    }\n",
       "</style>\n",
       "<table border=\"1\" class=\"dataframe\">\n",
       "  <thead>\n",
       "    <tr style=\"text-align: right;\">\n",
       "      <th></th>\n",
       "      <th>City</th>\n",
       "      <th>Age</th>\n",
       "      <th>Sex</th>\n",
       "      <th>Smoke</th>\n",
       "      <th>HappinessIndex</th>\n",
       "      <th>Healthy</th>\n",
       "    </tr>\n",
       "  </thead>\n",
       "  <tbody>\n",
       "    <tr>\n",
       "      <th>0</th>\n",
       "      <td>Mumbai</td>\n",
       "      <td>24.0</td>\n",
       "      <td>Male</td>\n",
       "      <td>Yes</td>\n",
       "      <td>241.0</td>\n",
       "      <td>Yes</td>\n",
       "    </tr>\n",
       "    <tr>\n",
       "      <th>1</th>\n",
       "      <td>London</td>\n",
       "      <td>80.0</td>\n",
       "      <td>Female</td>\n",
       "      <td>No</td>\n",
       "      <td>928.0</td>\n",
       "      <td>No</td>\n",
       "    </tr>\n",
       "    <tr>\n",
       "      <th>2</th>\n",
       "      <td>NewYork</td>\n",
       "      <td>38.0</td>\n",
       "      <td>Male</td>\n",
       "      <td>Yes</td>\n",
       "      <td>NaN</td>\n",
       "      <td>Yes</td>\n",
       "    </tr>\n",
       "    <tr>\n",
       "      <th>3</th>\n",
       "      <td>NewYork</td>\n",
       "      <td>22.0</td>\n",
       "      <td>Female</td>\n",
       "      <td>Yes</td>\n",
       "      <td>786.0</td>\n",
       "      <td>Yes</td>\n",
       "    </tr>\n",
       "    <tr>\n",
       "      <th>4</th>\n",
       "      <td>NewYork</td>\n",
       "      <td>36.0</td>\n",
       "      <td>Male</td>\n",
       "      <td>Yes</td>\n",
       "      <td>967.0</td>\n",
       "      <td>Yes</td>\n",
       "    </tr>\n",
       "    <tr>\n",
       "      <th>5</th>\n",
       "      <td>London</td>\n",
       "      <td>NaN</td>\n",
       "      <td>Female</td>\n",
       "      <td>Yes</td>\n",
       "      <td>665.0</td>\n",
       "      <td>Yes</td>\n",
       "    </tr>\n",
       "    <tr>\n",
       "      <th>6</th>\n",
       "      <td>Mumbai</td>\n",
       "      <td>17.0</td>\n",
       "      <td>Female</td>\n",
       "      <td>No</td>\n",
       "      <td>293.0</td>\n",
       "      <td>No</td>\n",
       "    </tr>\n",
       "    <tr>\n",
       "      <th>7</th>\n",
       "      <td>NewYork</td>\n",
       "      <td>28.0</td>\n",
       "      <td>Female</td>\n",
       "      <td>No</td>\n",
       "      <td>494.0</td>\n",
       "      <td>Yes</td>\n",
       "    </tr>\n",
       "    <tr>\n",
       "      <th>8</th>\n",
       "      <td>Mumbai</td>\n",
       "      <td>45.0</td>\n",
       "      <td>Female</td>\n",
       "      <td>No</td>\n",
       "      <td>707.0</td>\n",
       "      <td>No</td>\n",
       "    </tr>\n",
       "    <tr>\n",
       "      <th>9</th>\n",
       "      <td>London</td>\n",
       "      <td>29.0</td>\n",
       "      <td>Male</td>\n",
       "      <td>Yes</td>\n",
       "      <td>599.0</td>\n",
       "      <td>No</td>\n",
       "    </tr>\n",
       "  </tbody>\n",
       "</table>\n",
       "</div>"
      ],
      "text/plain": [
       "      City   Age     Sex Smoke  HappinessIndex Healthy\n",
       "0   Mumbai  24.0    Male   Yes           241.0     Yes\n",
       "1   London  80.0  Female    No           928.0      No\n",
       "2  NewYork  38.0    Male   Yes             NaN     Yes\n",
       "3  NewYork  22.0  Female   Yes           786.0     Yes\n",
       "4  NewYork  36.0    Male   Yes           967.0     Yes\n",
       "5   London   NaN  Female   Yes           665.0     Yes\n",
       "6   Mumbai  17.0  Female    No           293.0      No\n",
       "7  NewYork  28.0  Female    No           494.0     Yes\n",
       "8   Mumbai  45.0  Female    No           707.0      No\n",
       "9   London  29.0    Male   Yes           599.0      No"
      ]
     },
     "execution_count": 3,
     "metadata": {},
     "output_type": "execute_result"
    }
   ],
   "source": [
    "data"
   ]
  },
  {
   "cell_type": "code",
   "execution_count": 115,
   "metadata": {},
   "outputs": [],
   "source": [
    "x = data.iloc[:,0:5].values #we add values to extract the return from iloc as a numpy array instead of a DataFrame"
   ]
  },
  {
   "cell_type": "code",
   "execution_count": 116,
   "metadata": {},
   "outputs": [
    {
     "data": {
      "text/plain": [
       "array([['Mumbai', 24.0, 'Male', 'Yes', 241.0],\n",
       "       ['London', 80.0, 'Female', 'No', 928.0],\n",
       "       ['NewYork', 38.0, 'Male', 'Yes', nan],\n",
       "       ['NewYork', 22.0, 'Female', 'Yes', 786.0],\n",
       "       ['NewYork', 36.0, 'Male', 'Yes', 967.0],\n",
       "       ['London', nan, 'Female', 'Yes', 665.0],\n",
       "       ['Mumbai', 17.0, 'Female', 'No', 293.0],\n",
       "       ['NewYork', 28.0, 'Female', 'No', 494.0],\n",
       "       ['Mumbai', 45.0, 'Female', 'No', 707.0],\n",
       "       ['London', 29.0, 'Male', 'Yes', 599.0]], dtype=object)"
      ]
     },
     "execution_count": 116,
     "metadata": {},
     "output_type": "execute_result"
    }
   ],
   "source": [
    "x"
   ]
  },
  {
   "cell_type": "code",
   "execution_count": 117,
   "metadata": {},
   "outputs": [],
   "source": [
    "y = data.iloc[:, 5].values"
   ]
  },
  {
   "cell_type": "code",
   "execution_count": 110,
   "metadata": {},
   "outputs": [
    {
     "data": {
      "text/plain": [
       "array(['Yes', 'No', 'Yes', 'Yes', 'Yes', 'Yes', 'No', 'Yes', 'No', 'No'],\n",
       "      dtype=object)"
      ]
     },
     "execution_count": 110,
     "metadata": {},
     "output_type": "execute_result"
    }
   ],
   "source": [
    "y"
   ]
  },
  {
   "cell_type": "code",
   "execution_count": 118,
   "metadata": {},
   "outputs": [],
   "source": [
    "xy = x.copy()"
   ]
  },
  {
   "cell_type": "code",
   "execution_count": 9,
   "metadata": {},
   "outputs": [],
   "source": [
    "xy = np.append(xy, y.reshape((10,1)), axis=1) # if we need to append a y array back to the array"
   ]
  },
  {
   "cell_type": "code",
   "execution_count": 119,
   "metadata": {},
   "outputs": [
    {
     "data": {
      "text/plain": [
       "array([['Mumbai', 24.0, 'Male', 'Yes', 241.0],\n",
       "       ['London', 80.0, 'Female', 'No', 928.0],\n",
       "       ['NewYork', 38.0, 'Male', 'Yes', nan],\n",
       "       ['NewYork', 22.0, 'Female', 'Yes', 786.0],\n",
       "       ['NewYork', 36.0, 'Male', 'Yes', 967.0],\n",
       "       ['London', nan, 'Female', 'Yes', 665.0],\n",
       "       ['Mumbai', 17.0, 'Female', 'No', 293.0],\n",
       "       ['NewYork', 28.0, 'Female', 'No', 494.0],\n",
       "       ['Mumbai', 45.0, 'Female', 'No', 707.0],\n",
       "       ['London', 29.0, 'Male', 'Yes', 599.0]], dtype=object)"
      ]
     },
     "execution_count": 119,
     "metadata": {},
     "output_type": "execute_result"
    }
   ],
   "source": [
    "xy"
   ]
  },
  {
   "cell_type": "markdown",
   "metadata": {},
   "source": [
    "## Missing Data"
   ]
  },
  {
   "cell_type": "code",
   "execution_count": 120,
   "metadata": {},
   "outputs": [],
   "source": [
    "xy = x.copy()"
   ]
  },
  {
   "cell_type": "code",
   "execution_count": 121,
   "metadata": {},
   "outputs": [
    {
     "data": {
      "text/plain": [
       "array([['Mumbai', 24.0, 'Male', 'Yes', 241.0],\n",
       "       ['London', 80.0, 'Female', 'No', 928.0],\n",
       "       ['NewYork', 38.0, 'Male', 'Yes', nan],\n",
       "       ['NewYork', 22.0, 'Female', 'Yes', 786.0],\n",
       "       ['NewYork', 36.0, 'Male', 'Yes', 967.0],\n",
       "       ['London', nan, 'Female', 'Yes', 665.0],\n",
       "       ['Mumbai', 17.0, 'Female', 'No', 293.0],\n",
       "       ['NewYork', 28.0, 'Female', 'No', 494.0],\n",
       "       ['Mumbai', 45.0, 'Female', 'No', 707.0],\n",
       "       ['London', 29.0, 'Male', 'Yes', 599.0]], dtype=object)"
      ]
     },
     "execution_count": 121,
     "metadata": {},
     "output_type": "execute_result"
    }
   ],
   "source": [
    "xy"
   ]
  },
  {
   "cell_type": "code",
   "execution_count": 122,
   "metadata": {},
   "outputs": [],
   "source": [
    "imp = Imputer(missing_values='NaN', strategy='mean', axis=0)"
   ]
  },
  {
   "cell_type": "code",
   "execution_count": 123,
   "metadata": {},
   "outputs": [],
   "source": [
    "xy[:,1:2] = imp.fit_transform(xy[:,1:2]) # replaces NaN in second column with mean\n",
    "xy[:,4:5] = imp.fit_transform(xy[:,4:5]) # replaces NaN in last column with mean"
   ]
  },
  {
   "cell_type": "code",
   "execution_count": 124,
   "metadata": {},
   "outputs": [
    {
     "data": {
      "text/plain": [
       "array([['Mumbai', 24.0, 'Male', 'Yes', 241.0],\n",
       "       ['London', 80.0, 'Female', 'No', 928.0],\n",
       "       ['NewYork', 38.0, 'Male', 'Yes', 631.1111111111111],\n",
       "       ['NewYork', 22.0, 'Female', 'Yes', 786.0],\n",
       "       ['NewYork', 36.0, 'Male', 'Yes', 967.0],\n",
       "       ['London', 35.44444444444444, 'Female', 'Yes', 665.0],\n",
       "       ['Mumbai', 17.0, 'Female', 'No', 293.0],\n",
       "       ['NewYork', 28.0, 'Female', 'No', 494.0],\n",
       "       ['Mumbai', 45.0, 'Female', 'No', 707.0],\n",
       "       ['London', 29.0, 'Male', 'Yes', 599.0]], dtype=object)"
      ]
     },
     "execution_count": 124,
     "metadata": {},
     "output_type": "execute_result"
    }
   ],
   "source": [
    "xy"
   ]
  },
  {
   "cell_type": "code",
   "execution_count": 72,
   "metadata": {},
   "outputs": [],
   "source": [
    "xy = x.copy()"
   ]
  },
  {
   "cell_type": "code",
   "execution_count": 73,
   "metadata": {},
   "outputs": [
    {
     "data": {
      "text/plain": [
       "float"
      ]
     },
     "execution_count": 73,
     "metadata": {},
     "output_type": "execute_result"
    }
   ],
   "source": [
    "type(xy[2,4])"
   ]
  },
  {
   "cell_type": "code",
   "execution_count": 74,
   "metadata": {},
   "outputs": [],
   "source": [
    "pd1 = pd.DataFrame(xy)"
   ]
  },
  {
   "cell_type": "code",
   "execution_count": 79,
   "metadata": {},
   "outputs": [
    {
     "data": {
      "text/plain": [
       "array([['Mumbai', 24.0, 'Male', 'Yes', 241.0],\n",
       "       ['London', 80.0, 'Female', 'No', 928.0],\n",
       "       ['NewYork', 22.0, 'Female', 'Yes', 786.0],\n",
       "       ['NewYork', 36.0, 'Male', 'Yes', 967.0],\n",
       "       ['Mumbai', 17.0, 'Female', 'No', 293.0],\n",
       "       ['NewYork', 28.0, 'Female', 'No', 494.0],\n",
       "       ['Mumbai', 45.0, 'Female', 'No', 707.0],\n",
       "       ['London', 29.0, 'Male', 'Yes', 599.0]], dtype=object)"
      ]
     },
     "execution_count": 79,
     "metadata": {},
     "output_type": "execute_result"
    }
   ],
   "source": [
    "pd1.dropna().values"
   ]
  },
  {
   "cell_type": "code",
   "execution_count": 78,
   "metadata": {},
   "outputs": [
    {
     "data": {
      "text/plain": [
       "array([['Mumbai', 'Male', 'Yes'],\n",
       "       ['London', 'Female', 'No'],\n",
       "       ['NewYork', 'Male', 'Yes'],\n",
       "       ['NewYork', 'Female', 'Yes'],\n",
       "       ['NewYork', 'Male', 'Yes'],\n",
       "       ['London', 'Female', 'Yes'],\n",
       "       ['Mumbai', 'Female', 'No'],\n",
       "       ['NewYork', 'Female', 'No'],\n",
       "       ['Mumbai', 'Female', 'No'],\n",
       "       ['London', 'Male', 'Yes']], dtype=object)"
      ]
     },
     "execution_count": 78,
     "metadata": {},
     "output_type": "execute_result"
    }
   ],
   "source": [
    "pd1.dropna(axis='columns').values"
   ]
  },
  {
   "cell_type": "markdown",
   "metadata": {},
   "source": [
    "## Categorical Data"
   ]
  },
  {
   "cell_type": "code",
   "execution_count": 185,
   "metadata": {},
   "outputs": [],
   "source": [
    "xy = x.copy()"
   ]
  },
  {
   "cell_type": "code",
   "execution_count": 186,
   "metadata": {},
   "outputs": [],
   "source": [
    "imp = Imputer(missing_values='NaN', strategy='mean', axis=0)"
   ]
  },
  {
   "cell_type": "code",
   "execution_count": 187,
   "metadata": {},
   "outputs": [],
   "source": [
    "xy[:,1:2] = imp.fit_transform(xy[:,1:2]) # replaces NaN in second column with mean\n",
    "xy[:,4:5] = imp.fit_transform(xy[:,4:5]) # replaces NaN in last column with mean"
   ]
  },
  {
   "cell_type": "code",
   "execution_count": 188,
   "metadata": {},
   "outputs": [
    {
     "data": {
      "text/plain": [
       "array([['Mumbai', 24.0, 'Male', 'Yes', 241.0],\n",
       "       ['London', 80.0, 'Female', 'No', 928.0],\n",
       "       ['NewYork', 38.0, 'Male', 'Yes', 631.1111111111111],\n",
       "       ['NewYork', 22.0, 'Female', 'Yes', 786.0],\n",
       "       ['NewYork', 36.0, 'Male', 'Yes', 967.0],\n",
       "       ['London', 35.44444444444444, 'Female', 'Yes', 665.0],\n",
       "       ['Mumbai', 17.0, 'Female', 'No', 293.0],\n",
       "       ['NewYork', 28.0, 'Female', 'No', 494.0],\n",
       "       ['Mumbai', 45.0, 'Female', 'No', 707.0],\n",
       "       ['London', 29.0, 'Male', 'Yes', 599.0]], dtype=object)"
      ]
     },
     "execution_count": 188,
     "metadata": {},
     "output_type": "execute_result"
    }
   ],
   "source": [
    "xy # have to replace non numerical data into numerical data"
   ]
  },
  {
   "cell_type": "code",
   "execution_count": 189,
   "metadata": {},
   "outputs": [],
   "source": [
    "le_x = LabelEncoder()\n",
    "le_y = LabelEncoder()"
   ]
  },
  {
   "cell_type": "code",
   "execution_count": 190,
   "metadata": {},
   "outputs": [],
   "source": [
    "xy[:,0] = le_x.fit_transform(xy[:,0]) # before one hot encoding we need to label encoding (mumbay, NewYork, Lodon)\n",
    "xy[:,2] = le_x.fit_transform(xy[:,2]) # before one hot encoding we need to label encoding (female, male)\n",
    "xy[:,3] = le_x.fit_transform(xy[:,3]) # this is straight-forward because we only have two values (yes/no)\n",
    "y = le_y.fit_transform(y) # this is straight-forward because we only have two values (yes/no)"
   ]
  },
  {
   "cell_type": "code",
   "execution_count": 191,
   "metadata": {},
   "outputs": [
    {
     "data": {
      "text/plain": [
       "array([[1, 24.0, 1, 1, 241.0],\n",
       "       [0, 80.0, 0, 0, 928.0],\n",
       "       [2, 38.0, 1, 1, 631.1111111111111],\n",
       "       [2, 22.0, 0, 1, 786.0],\n",
       "       [2, 36.0, 1, 1, 967.0],\n",
       "       [0, 35.44444444444444, 0, 1, 665.0],\n",
       "       [1, 17.0, 0, 0, 293.0],\n",
       "       [2, 28.0, 0, 0, 494.0],\n",
       "       [1, 45.0, 0, 0, 707.0],\n",
       "       [0, 29.0, 1, 1, 599.0]], dtype=object)"
      ]
     },
     "execution_count": 191,
     "metadata": {},
     "output_type": "execute_result"
    }
   ],
   "source": [
    "xy"
   ]
  },
  {
   "cell_type": "code",
   "execution_count": 192,
   "metadata": {},
   "outputs": [
    {
     "data": {
      "text/plain": [
       "array([1, 0, 1, 1, 1, 1, 0, 1, 0, 0], dtype=int64)"
      ]
     },
     "execution_count": 192,
     "metadata": {},
     "output_type": "execute_result"
    }
   ],
   "source": [
    "y"
   ]
  },
  {
   "cell_type": "code",
   "execution_count": 193,
   "metadata": {},
   "outputs": [],
   "source": [
    "ohe_city = OneHotEncoder(categorical_features=[0])"
   ]
  },
  {
   "cell_type": "code",
   "execution_count": 194,
   "metadata": {},
   "outputs": [],
   "source": [
    "xy = ohe_city.fit_transform(xy).toarray()"
   ]
  },
  {
   "cell_type": "code",
   "execution_count": 195,
   "metadata": {},
   "outputs": [
    {
     "data": {
      "text/plain": [
       "array([[  0.        ,   1.        ,   0.        ,  24.        ,\n",
       "          1.        ,   1.        , 241.        ],\n",
       "       [  1.        ,   0.        ,   0.        ,  80.        ,\n",
       "          0.        ,   0.        , 928.        ],\n",
       "       [  0.        ,   0.        ,   1.        ,  38.        ,\n",
       "          1.        ,   1.        , 631.11111111],\n",
       "       [  0.        ,   0.        ,   1.        ,  22.        ,\n",
       "          0.        ,   1.        , 786.        ],\n",
       "       [  0.        ,   0.        ,   1.        ,  36.        ,\n",
       "          1.        ,   1.        , 967.        ],\n",
       "       [  1.        ,   0.        ,   0.        ,  35.44444444,\n",
       "          0.        ,   1.        , 665.        ],\n",
       "       [  0.        ,   1.        ,   0.        ,  17.        ,\n",
       "          0.        ,   0.        , 293.        ],\n",
       "       [  0.        ,   0.        ,   1.        ,  28.        ,\n",
       "          0.        ,   0.        , 494.        ],\n",
       "       [  0.        ,   1.        ,   0.        ,  45.        ,\n",
       "          0.        ,   0.        , 707.        ],\n",
       "       [  1.        ,   0.        ,   0.        ,  29.        ,\n",
       "          1.        ,   1.        , 599.        ]])"
      ]
     },
     "execution_count": 195,
     "metadata": {},
     "output_type": "execute_result"
    }
   ],
   "source": [
    "xy"
   ]
  },
  {
   "cell_type": "code",
   "execution_count": 196,
   "metadata": {},
   "outputs": [],
   "source": [
    "ohe_sex = OneHotEncoder(categorical_features=[4])"
   ]
  },
  {
   "cell_type": "code",
   "execution_count": 197,
   "metadata": {},
   "outputs": [],
   "source": [
    "xy = ohe_sex.fit_transform(xy)"
   ]
  },
  {
   "cell_type": "code",
   "execution_count": 199,
   "metadata": {},
   "outputs": [
    {
     "data": {
      "text/plain": [
       "array([[  0.        ,   1.        ,   0.        ,   1.        ,\n",
       "          0.        ,  24.        ,   1.        , 241.        ],\n",
       "       [  1.        ,   0.        ,   1.        ,   0.        ,\n",
       "          0.        ,  80.        ,   0.        , 928.        ],\n",
       "       [  0.        ,   1.        ,   0.        ,   0.        ,\n",
       "          1.        ,  38.        ,   1.        , 631.11111111],\n",
       "       [  1.        ,   0.        ,   0.        ,   0.        ,\n",
       "          1.        ,  22.        ,   1.        , 786.        ],\n",
       "       [  0.        ,   1.        ,   0.        ,   0.        ,\n",
       "          1.        ,  36.        ,   1.        , 967.        ],\n",
       "       [  1.        ,   0.        ,   1.        ,   0.        ,\n",
       "          0.        ,  35.44444444,   1.        , 665.        ],\n",
       "       [  1.        ,   0.        ,   0.        ,   1.        ,\n",
       "          0.        ,  17.        ,   0.        , 293.        ],\n",
       "       [  1.        ,   0.        ,   0.        ,   0.        ,\n",
       "          1.        ,  28.        ,   0.        , 494.        ],\n",
       "       [  1.        ,   0.        ,   0.        ,   1.        ,\n",
       "          0.        ,  45.        ,   0.        , 707.        ],\n",
       "       [  0.        ,   1.        ,   1.        ,   0.        ,\n",
       "          0.        ,  29.        ,   1.        , 599.        ]])"
      ]
     },
     "execution_count": 199,
     "metadata": {},
     "output_type": "execute_result"
    }
   ],
   "source": [
    "xy.toarray() # OneHot Encoding format -> | female | male | london | mumbai | newyork | age | smoking (yes/no) | happinessIndex"
   ]
  },
  {
   "cell_type": "markdown",
   "metadata": {},
   "source": [
    "## Splitting Data in Train and Test"
   ]
  },
  {
   "cell_type": "code",
   "execution_count": 247,
   "metadata": {},
   "outputs": [],
   "source": [
    "xy_train, xy_test, y_train, y_test = train_test_split(xy, y, test_size=0.2) # 20% of the data goes for testing and 80% goes for training"
   ]
  },
  {
   "cell_type": "code",
   "execution_count": 248,
   "metadata": {},
   "outputs": [
    {
     "data": {
      "text/plain": [
       "array([[  1.        ,   0.        ,   0.        ,   1.        ,\n",
       "          0.        ,  17.        ,   0.        , 293.        ],\n",
       "       [  0.        ,   1.        ,   0.        ,   0.        ,\n",
       "          1.        ,  38.        ,   1.        , 631.11111111],\n",
       "       [  1.        ,   0.        ,   1.        ,   0.        ,\n",
       "          0.        ,  35.44444444,   1.        , 665.        ],\n",
       "       [  1.        ,   0.        ,   0.        ,   0.        ,\n",
       "          1.        ,  22.        ,   1.        , 786.        ],\n",
       "       [  1.        ,   0.        ,   1.        ,   0.        ,\n",
       "          0.        ,  80.        ,   0.        , 928.        ],\n",
       "       [  1.        ,   0.        ,   0.        ,   0.        ,\n",
       "          1.        ,  28.        ,   0.        , 494.        ],\n",
       "       [  0.        ,   1.        ,   1.        ,   0.        ,\n",
       "          0.        ,  29.        ,   1.        , 599.        ],\n",
       "       [  1.        ,   0.        ,   0.        ,   1.        ,\n",
       "          0.        ,  45.        ,   0.        , 707.        ]])"
      ]
     },
     "execution_count": 248,
     "metadata": {},
     "output_type": "execute_result"
    }
   ],
   "source": [
    "xy_train.toarray()"
   ]
  },
  {
   "cell_type": "code",
   "execution_count": 249,
   "metadata": {},
   "outputs": [
    {
     "data": {
      "text/plain": [
       "array([[  0.,   1.,   0.,   1.,   0.,  24.,   1., 241.],\n",
       "       [  0.,   1.,   0.,   0.,   1.,  36.,   1., 967.]])"
      ]
     },
     "execution_count": 249,
     "metadata": {},
     "output_type": "execute_result"
    }
   ],
   "source": [
    "xy_test.toarray()"
   ]
  },
  {
   "cell_type": "code",
   "execution_count": 250,
   "metadata": {},
   "outputs": [
    {
     "data": {
      "text/plain": [
       "array([0, 1, 1, 1, 0, 1, 0, 0], dtype=int64)"
      ]
     },
     "execution_count": 250,
     "metadata": {},
     "output_type": "execute_result"
    }
   ],
   "source": [
    "y_train"
   ]
  },
  {
   "cell_type": "code",
   "execution_count": 251,
   "metadata": {},
   "outputs": [
    {
     "data": {
      "text/plain": [
       "array([1, 1], dtype=int64)"
      ]
     },
     "execution_count": 251,
     "metadata": {},
     "output_type": "execute_result"
    }
   ],
   "source": [
    "y_test"
   ]
  },
  {
   "cell_type": "markdown",
   "metadata": {},
   "source": [
    "## Normalize Data"
   ]
  },
  {
   "cell_type": "code",
   "execution_count": 252,
   "metadata": {},
   "outputs": [
    {
     "data": {
      "text/plain": [
       "array([[  0.,   1.,   0.,   1.,   0.,  24.,   1., 241.],\n",
       "       [  0.,   1.,   0.,   0.,   1.,  36.,   1., 967.]])"
      ]
     },
     "execution_count": 252,
     "metadata": {},
     "output_type": "execute_result"
    }
   ],
   "source": [
    "xy_test.toarray()"
   ]
  },
  {
   "cell_type": "code",
   "execution_count": 253,
   "metadata": {},
   "outputs": [],
   "source": [
    "sc_x = StandardScaler() # (x - xmin) / (maxValue - minValue)... may use (x - xmean) / std_deviation instead"
   ]
  },
  {
   "cell_type": "code",
   "execution_count": 254,
   "metadata": {},
   "outputs": [],
   "source": [
    "xy_train = sc_x.fit_transform(xy_train.toarray())"
   ]
  },
  {
   "cell_type": "code",
   "execution_count": 255,
   "metadata": {},
   "outputs": [
    {
     "data": {
      "text/plain": [
       "array([[ 0.57735027, -0.57735027, -0.77459667,  1.73205081, -0.77459667,\n",
       "        -1.08086023, -1.        , -1.94006195],\n",
       "       [-1.73205081,  1.73205081, -0.77459667, -0.57735027,  1.29099445,\n",
       "         0.06518512,  1.        , -0.03812622],\n",
       "       [ 0.57735027, -0.57735027,  1.29099445, -0.57735027, -0.77459667,\n",
       "        -0.07428072,  1.        ,  0.15250487],\n",
       "       [ 0.57735027, -0.57735027, -0.77459667, -0.57735027,  1.29099445,\n",
       "        -0.80799229,  1.        ,  0.83315161],\n",
       "       [ 0.57735027, -0.57735027,  1.29099445, -0.57735027, -0.77459667,\n",
       "         2.35727581, -1.        ,  1.63192711],\n",
       "       [ 0.57735027, -0.57735027, -0.77459667, -0.57735027,  1.29099445,\n",
       "        -0.48055076, -1.        , -0.80940085],\n",
       "       [-1.73205081,  1.73205081,  1.29099445, -0.57735027, -0.77459667,\n",
       "        -0.42597717,  1.        , -0.21875699],\n",
       "       [ 0.57735027, -0.57735027, -0.77459667,  1.73205081, -0.77459667,\n",
       "         0.44720023, -1.        ,  0.38876241]])"
      ]
     },
     "execution_count": 255,
     "metadata": {},
     "output_type": "execute_result"
    }
   ],
   "source": [
    "xy_train"
   ]
  },
  {
   "cell_type": "code",
   "execution_count": 256,
   "metadata": {},
   "outputs": [],
   "source": [
    "xy_test = sc_x.transform(xy_test.toarray()) #already fitted this before (xy_train) so just need to tranform"
   ]
  },
  {
   "cell_type": "code",
   "execution_count": 257,
   "metadata": {},
   "outputs": [
    {
     "data": {
      "text/plain": [
       "array([[-1.73205081,  1.73205081, -0.77459667,  1.73205081, -0.77459667,\n",
       "        -0.69884511,  1.        , -2.2325713 ],\n",
       "       [-1.73205081,  1.73205081, -0.77459667, -0.57735027,  1.29099445,\n",
       "        -0.04396206,  1.        ,  1.85130912]])"
      ]
     },
     "execution_count": 257,
     "metadata": {},
     "output_type": "execute_result"
    }
   ],
   "source": [
    "xy_test"
   ]
  }
 ],
 "metadata": {
  "kernelspec": {
   "display_name": "Python 3",
   "language": "python",
   "name": "python3"
  },
  "language_info": {
   "codemirror_mode": {
    "name": "ipython",
    "version": 3
   },
   "file_extension": ".py",
   "mimetype": "text/x-python",
   "name": "python",
   "nbconvert_exporter": "python",
   "pygments_lexer": "ipython3",
   "version": "3.6.5"
  }
 },
 "nbformat": 4,
 "nbformat_minor": 2
}
